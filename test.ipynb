{
 "cells": [
  {
   "cell_type": "code",
   "execution_count": null,
   "metadata": {},
   "outputs": [],
   "source": [
    "import tensorflow as tf\n",
    "import numpy as np\n",
    "import librosa\n",
    "import csv\n",
    "from tensorflow import keras\n",
    "\n",
    "# 스펙트로그램 데이터 로드\n",
    "spectrogram_data = []\n",
    "with open('spectrogramdata.csv', 'r') as csvfile:\n",
    "    reader = csv.reader(csvfile)\n",
    "    for row in reader:\n",
    "        spectrogram_data.append([float(x) for x in row])\n",
    "spectrogram_data = np.array(spectrogram_data)\n",
    "\n",
    "print(spectrogram_data.shape)\n",
    "# 모델 정의\n",
    "model = keras.Sequential([\n",
    "    keras.layers.Flatten(input_shape=(spectrogram_data.shape[1], spectrogram_data.shape[2])),\n",
    "    keras.layers.Dense(128, activation='relu'),\n",
    "    keras.layers.Dense(64, activation='relu'),\n",
    "    keras.layers.Dense(1, activation='sigmoid')  # 이진 분류 문제인 경우\n",
    "])\n",
    "\n",
    "# 모델 컴파일\n",
    "model.compile(optimizer='adam',\n",
    "              loss='binary_crossentropy',\n",
    "              metrics=['accuracy'])\n",
    "\n",
    "# 모델 학습\n",
    "model.fit(spectrogram_data, labels, epochs=10, batch_size=32)\n",
    "\n",
    "# TensorFlow Lite 모델 변환\n",
    "converter = tf.lite.TFLiteConverter.from_keras_model(model)\n",
    "tflite_model = converter.convert()\n",
    "\n",
    "# TensorFlow Lite 모델 저장\n",
    "with open('model.tflite', 'wb') as f:\n",
    "    f.write(tflite_model)"
   ]
  }
 ],
 "metadata": {
  "language_info": {
   "name": "python"
  }
 },
 "nbformat": 4,
 "nbformat_minor": 2
}
